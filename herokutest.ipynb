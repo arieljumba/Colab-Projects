{
  "nbformat": 4,
  "nbformat_minor": 0,
  "metadata": {
    "colab": {
      "name": "Untitled4.ipynb",
      "provenance": [],
      "authorship_tag": "ABX9TyMG5Fz4y5mj/0o3g/5IZEcb",
      "include_colab_link": true
    },
    "kernelspec": {
      "name": "python3",
      "display_name": "Python 3"
    },
    "language_info": {
      "name": "python"
    }
  },
  "cells": [
    {
      "cell_type": "markdown",
      "metadata": {
        "id": "view-in-github",
        "colab_type": "text"
      },
      "source": [
        "<a href=\"https://colab.research.google.com/github/arieljumba/Colab-Projects/blob/main/herokutest.ipynb\" target=\"_parent\"><img src=\"https://colab.research.google.com/assets/colab-badge.svg\" alt=\"Open In Colab\"/></a>"
      ]
    },
    {
      "cell_type": "code",
      "metadata": {
        "id": "ZHXwJgDtldq5"
      },
      "source": [
        "import plotly.express as px\n",
        "gapminder = px.data.gapminder()\n",
        "fig = px.scatter(gapminder.query(\"year==2007\"), x=\"gdpPercap\", y=\"lifeExp\", size=\"pop\", color=\"continent\",\n",
        "           hover_name=\"country\", log_x=True, size_max=60)\n",
        "fig.show()\n",
        "import chart_studio\n",
        "username = 'AJumba' # your username\n",
        "api_key = 'ZeLsM49Suvsd74O2LGnc' # your api key - go to profile > settings > regenerate key\n",
        "\n",
        "chart_studio.tools.set_credentials_file(username=username, api_key=api_key)\n",
        "import chart_studio.plotly as py\n",
        "py.plot(fig, filename = 'gdp_per_cap', auto_open=True)"
      ],
      "execution_count": null,
      "outputs": []
    }
  ]
}