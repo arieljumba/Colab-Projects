{
  "nbformat": 4,
  "nbformat_minor": 0,
  "metadata": {
    "colab": {
      "name": "Sentiment analysis from Text review.ipynb",
      "provenance": [],
      "collapsed_sections": [],
      "authorship_tag": "ABX9TyP7w0f9llncjhGbNDXCBp1s",
      "include_colab_link": true
    },
    "kernelspec": {
      "name": "python3",
      "display_name": "Python 3"
    },
    "language_info": {
      "name": "python"
    }
  },
  "cells": [
    {
      "cell_type": "markdown",
      "metadata": {
        "id": "view-in-github",
        "colab_type": "text"
      },
      "source": [
        "<a href=\"https://colab.research.google.com/github/arieljumba/Colab-Projects/blob/main/Sentiment_analysis_from_Text_review.ipynb\" target=\"_parent\"><img src=\"https://colab.research.google.com/assets/colab-badge.svg\" alt=\"Open In Colab\"/></a>"
      ]
    },
    {
      "cell_type": "code",
      "metadata": {
        "id": "SnlTlo-soJ-e"
      },
      "source": [
        "import pandas as pd\n",
        "import os as os\n",
        "import json, requests, re"
      ],
      "execution_count": 1,
      "outputs": []
    },
    {
      "cell_type": "code",
      "metadata": {
        "colab": {
          "base_uri": "https://localhost:8080/",
          "height": 35
        },
        "id": "i5lBsl81owsv",
        "outputId": "5d6ebf9f-9558-4d9f-918a-d95b6911c8fd"
      },
      "source": [
        "filename = './Book_small.json'\n",
        "\n",
        "class sentiment:\n",
        "  Positive = 'Positive'\n",
        "  Negative = 'Negative'\n",
        "  Neutral = 'Neutral'\n",
        "\n",
        "class Review:\n",
        "  def __init__(self,text, score):\n",
        "    self.text = text\n",
        "    self.score = score\n",
        "    self.sentiment = self.get_sentiment()\n",
        "  def get_sentiment(self):\n",
        "    if self.score > 3:\n",
        "      return sentiment.Positive\n",
        "    elif self.score < 3:\n",
        "      return sentiment.Negative\n",
        "    else:\n",
        "      return sentiment.Neutral  \n",
        "\n",
        "\n",
        "reviews = []\n",
        "with open(filename) as f:\n",
        "  for line in f:\n",
        "    review = json.loads(line)\n",
        "    reviews.append(Review(review['reviewText'],review['overall']))\n",
        "\n",
        "reviews[2].text\n",
        "reviews[2].sentiment\n"
      ],
      "execution_count": 37,
      "outputs": [
        {
          "output_type": "execute_result",
          "data": {
            "application/vnd.google.colaboratory.intrinsic+json": {
              "type": "string"
            },
            "text/plain": [
              "'Positive'"
            ]
          },
          "metadata": {
            "tags": []
          },
          "execution_count": 37
        }
      ]
    },
    {
      "cell_type": "markdown",
      "metadata": {
        "id": "e7fHHoyJ5guL"
      },
      "source": [
        "Split data"
      ]
    },
    {
      "cell_type": "code",
      "metadata": {
        "colab": {
          "base_uri": "https://localhost:8080/",
          "height": 71
        },
        "id": "5eo8t_S65CRY",
        "outputId": "5faec73f-43fe-4542-cf00-8538af715a76"
      },
      "source": [
        "from sklearn.model_selection import train_test_split \n",
        "training, test = train_test_split(reviews,test_size = 0.67, random_state = 42)\n",
        "\n",
        "train_x = [x.text for x in training]\n",
        "train_y = [y.score for y in training]\n",
        "\n",
        "test_x = [x.text for x in test]\n",
        "test_y = [y.score for y in test]\n",
        "\n",
        "test_x[1]"
      ],
      "execution_count": 46,
      "outputs": [
        {
          "output_type": "execute_result",
          "data": {
            "application/vnd.google.colaboratory.intrinsic+json": {
              "type": "string"
            },
            "text/plain": [
              "'This book was a great version of Cinderella, it\\'s better than the original version, I like how the \"ugly step-sister\\'s\" were actually nice and caring, the people of the kingdom only judged a book by the cover, and the mother just wanted her daughters to have a happy life, and the coachman had been in love with Anna all this time! This is a great version of Cinderella, this should become a movie and a real novel not an novelette'"
            ]
          },
          "metadata": {
            "tags": []
          },
          "execution_count": 46
        }
      ]
    },
    {
      "cell_type": "markdown",
      "metadata": {
        "id": "-3_jZRMe6vZQ"
      },
      "source": [
        "Bag of words vectorization"
      ]
    },
    {
      "cell_type": "code",
      "metadata": {
        "colab": {
          "base_uri": "https://localhost:8080/"
        },
        "id": "Z987sp006yCH",
        "outputId": "1e254069-14d2-46eb-a20f-abd0cf2502c7"
      },
      "source": [
        "from sklearn.feature_extraction.text import CountVectorizer\n",
        "vectorized = CountVectorizer()\n",
        "train_x_vect = vectorized.fit_transform(train_x)\n",
        "print(train_x_vect.toarray())\n"
      ],
      "execution_count": 59,
      "outputs": [
        {
          "output_type": "stream",
          "text": [
            "[[0 0 0 ... 0 0 0]\n",
            " [0 0 0 ... 0 0 0]\n",
            " [0 0 0 ... 0 0 0]\n",
            " ...\n",
            " [0 0 0 ... 0 0 0]\n",
            " [0 0 0 ... 0 0 0]\n",
            " [0 0 0 ... 0 0 0]]\n"
          ],
          "name": "stdout"
        }
      ]
    },
    {
      "cell_type": "markdown",
      "metadata": {
        "id": "kG6UrGDiGmQU"
      },
      "source": [
        "Linear Support Vector Machine"
      ]
    },
    {
      "cell_type": "code",
      "metadata": {
        "id": "57V99aP7GrN4"
      },
      "source": [
        ""
      ],
      "execution_count": null,
      "outputs": []
    }
  ]
}